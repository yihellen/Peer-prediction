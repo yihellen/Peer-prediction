{
 "cells": [
  {
   "cell_type": "markdown",
   "metadata": {},
   "source": [
    "# Agents with multiple signals"
   ]
  },
  {
   "cell_type": "markdown",
   "metadata": {},
   "source": [
    "In the case where agents have multiple signals, we want to see whether it is incentive compatible for \"normal people\" to report their true signals."
   ]
  },
  {
   "cell_type": "code",
   "execution_count": 98,
   "metadata": {},
   "outputs": [],
   "source": [
    "import numpy as np\n",
    "from itertools import product"
   ]
  },
  {
   "cell_type": "code",
   "execution_count": 4,
   "metadata": {},
   "outputs": [],
   "source": [
    "HEAD = 0\n",
    "TAIL = 1\n",
    "FAIR = 0\n",
    "BIASED = 1\n",
    "NORMAL = 0\n",
    "EXPERT = 1"
   ]
  },
  {
   "cell_type": "markdown",
   "metadata": {},
   "source": [
    "The assumptions made here is that\n",
    "1. All the agents have the same priors, i.e. p(fair), p(biased), p(head|fair), p(head|biased) are the same through the lens of both \"normal people\" and \"experts\".\n",
    "2. The fraction of experts is known"
   ]
  },
  {
   "cell_type": "code",
   "execution_count": 14,
   "metadata": {},
   "outputs": [],
   "source": [
    "# tunable parameters\n",
    "# probability of states\n",
    "p_fair = 0.5 # FIXME: p(fair)\n",
    "p_state_prior = np.array([p_fair, 1-p_fair]) # p(fair), p(biased)\n",
    "\n",
    "# probability of signals given states\n",
    "p_signal_prior = np.array([[0.5], [1]]) # FIXME: p(head|fair), p(head|biased)\n",
    "p_signal_prior = np.append(p_signal_prior, [[1-p_signal_prior[FAIR][HEAD]], [1-p_signal_prior[BIASED][HEAD]]], axis=1)\n",
    "\n",
    "# fraction of agents\n",
    "p_normal = 0.5 # FIXME: p(normal)\n",
    "p_agents = np.array([p_normal, 1-p_normal])"
   ]
  },
  {
   "cell_type": "code",
   "execution_count": 94,
   "metadata": {},
   "outputs": [
    {
     "name": "stdout",
     "output_type": "stream",
     "text": [
      "[[[0.9 0.1]\n",
      "  [0.5 0.5]]\n",
      "\n",
      " [[0.5 0.5]\n",
      "  [0.5 0.5]]]\n"
     ]
    }
   ],
   "source": [
    "# Calculate probabilistic values\n",
    "def p_signal(i):\n",
    "    return np.dot(p_state_prior, p_signal_prior[:, i])\n",
    "\n",
    "# p_signal = [p(head), p(tail)]\n",
    "p_signal = np.fromfunction(np.vectorize(p_signal), (2,), dtype=int)\n",
    "\n",
    "def p_state(i, j):\n",
    "    return (p_signal_prior[j][i]*p_state_prior[j]/p_signal[i])\n",
    "\n",
    "# p_state = [[p(fair|head), p(biased|head)],[p(fair|tail), p(biased|tail)]]\n",
    "p_state = np.fromfunction(np.vectorize(p_state), (2, 2), dtype=int)\n",
    "\n",
    "def first_order_posterior(i, j):\n",
    "    return np.dot(p_signal_prior[:, j], p_state[i, :])\n",
    "    \n",
    "# first order posterior\n",
    "p_posterior_1st = np.fromfunction(np.vectorize(first_order_posterior), (2, 2), dtype=int)\n",
    "\n",
    "def second_order_posterior(x, y, z):\n",
    "    return np.sum(p_signal_prior[:, x] * p_signal_prior[:, y] * p_signal_prior[:, z] * p_state_prior.T) / np.sum(p_signal_prior[:, x] * p_signal_prior[:, y] * p_state_prior.T)\n",
    "\n",
    "# second order posterior\n",
    "p_posterior_2nd = np.fromfunction(np.vectorize(second_order_posterior), (2, 2, 2), dtype=int)\n"
   ]
  },
  {
   "cell_type": "code",
   "execution_count": 97,
   "metadata": {},
   "outputs": [
    {
     "name": "stdout",
     "output_type": "stream",
     "text": [
      "p(head), p(tail)\n",
      "[0.75 0.25]\n",
      "\n",
      "p(fair|head), p(biased|head)\n",
      "p(fair|tail), p(biased|tail)\n",
      "[[0.33333333 0.66666667]\n",
      " [1.         0.        ]]\n",
      "\n",
      "p(head|head), p(tail|head)\n",
      "p(head|tail), p(tail|tail)\n",
      "[[0.83333333 0.16666667]\n",
      " [0.5        0.5       ]]\n",
      "\n",
      "p(head|tail,tail), p(tail|tail,tail)\n",
      "p(head|head,tail), p(tail|head,tail)\n",
      "p(head|head, head), p(tail|head, head)\n",
      "[[[0.9 0.1]\n",
      "  [0.5 0.5]]\n",
      "\n",
      " [[0.5 0.5]\n",
      "  [0.5 0.5]]]\n",
      "\n"
     ]
    }
   ],
   "source": [
    "print(\"p(head), p(tail)\")\n",
    "print(p_signal)\n",
    "print()\n",
    "\n",
    "print(\"p(fair|head), p(biased|head)\")\n",
    "print(\"p(fair|tail), p(biased|tail)\")\n",
    "print(p_state)\n",
    "print()\n",
    "\n",
    "print(\"p(head|head), p(tail|head)\")\n",
    "print(\"p(head|tail), p(tail|tail)\")\n",
    "print(p_posterior_1st)\n",
    "print()\n",
    "\n",
    "print(\"p(head|tail,tail), p(tail|tail,tail)\")\n",
    "print(\"p(head|head,tail), p(tail|head,tail)\")\n",
    "print(\"p(head|head, head), p(tail|head, head)\")\n",
    "print(p_posterior_2nd)\n",
    "print()\n"
   ]
  },
  {
   "cell_type": "markdown",
   "metadata": {},
   "source": [
    "Assume the normal agent in this case has observed a HEAD"
   ]
  },
  {
   "cell_type": "code",
   "execution_count": 101,
   "metadata": {},
   "outputs": [
    {
     "name": "stdout",
     "output_type": "stream",
     "text": [
      "[[-0.20117974  0.47583281]\n",
      " [ 0.14384104        -inf]]\n"
     ]
    },
    {
     "name": "stderr",
     "output_type": "stream",
     "text": [
      "/Users/helen/anaconda3/lib/python3.7/site-packages/ipykernel_launcher.py:3: RuntimeWarning: divide by zero encountered in log\n",
      "  This is separate from the ipykernel package so we can avoid doing imports until\n"
     ]
    }
   ],
   "source": [
    "# if the normal person chooses to report HEAD\n",
    "def p_report(i, j):\n",
    "    res = np.log(p_signal_prior[i][j])\n",
    "    for x, y in product(range(2), repeat=2):\n",
    "        res = res - 0.5 * p_signal_prior[i][x] * p_signal_prior[i][y] * np.log(p_posterior_2nd[x][y][j])\n",
    "    for x in range(2):\n",
    "        res = res - 0.5 * p_signal_prior[i][x] * np.log(p_posterior_1st[x][j])\n",
    "    return res\n",
    "\n",
    "p_report = np.fromfunction(np.vectorize(p_report), (2, 2), dtype=int)\n",
    "\n",
    "p_report_head = np.dot(p_report[:, HEAD], p_state[HEAD, :].T)\n",
    "p_report_tail = np.dot(p_report[:, TAIL], p_state[TAIL, :].T)\n",
    "print(\"If the agent reports HEAD, his score is {}, otherwise, his score would be {}\\n\".format(p_report_head, p_report_tail))\n"
   ]
  },
  {
   "cell_type": "code",
   "execution_count": null,
   "metadata": {},
   "outputs": [],
   "source": []
  }
 ],
 "metadata": {
  "kernelspec": {
   "display_name": "Python 3",
   "language": "python",
   "name": "python3"
  },
  "language_info": {
   "codemirror_mode": {
    "name": "ipython",
    "version": 3
   },
   "file_extension": ".py",
   "mimetype": "text/x-python",
   "name": "python",
   "nbconvert_exporter": "python",
   "pygments_lexer": "ipython3",
   "version": "3.7.1"
  }
 },
 "nbformat": 4,
 "nbformat_minor": 2
}
