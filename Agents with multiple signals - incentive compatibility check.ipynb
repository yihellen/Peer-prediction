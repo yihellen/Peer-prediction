{
 "cells": [
  {
   "cell_type": "markdown",
   "metadata": {},
   "source": [
    "# Agents with multiple signals"
   ]
  },
  {
   "cell_type": "markdown",
   "metadata": {},
   "source": [
    "In the case where agents have multiple signals, we want to see whether it is incentive compatible for \"normal people\" to report their true signals."
   ]
  },
  {
   "cell_type": "code",
   "execution_count": 1,
   "metadata": {},
   "outputs": [],
   "source": [
    "HEAD = 0\n",
    "TAIL = 1\n",
    "FAIR = 0\n",
    "BIASED = 1\n",
    "NORMAL = 0\n",
    "EXPERT = 1"
   ]
  },
  {
   "cell_type": "markdown",
   "metadata": {},
   "source": [
    "The assumptions made here is that\n",
    "1. All the agents have the same priors, i.e. p(fair), p(biased), p(head|fair), p(head|biased) are the same through the lens of both \"normal people\" and \"experts\".\n",
    "2. The fraction of experts is known"
   ]
  },
  {
   "cell_type": "code",
   "execution_count": 2,
   "metadata": {},
   "outputs": [],
   "source": [
    "# tunable parameters\n",
    "# probability of states, i.e. p(fair), p(biased)\n",
    "p = 0.5 # p(fair)\n",
    "p_state = [p, 1-p] \n",
    "\n",
    "# probability of signals given states, i.e. p(head|fair), p(head|biased)\n",
    "p = 0.5 # p(head|fair)\n",
    "p_fair = [p, 1-p] \n",
    "p = 1 # p(head|biased)\n",
    "p_biased = [p, 1-p]\n",
    "\n",
    "# fraction of agents\n",
    "p = 0.5 # p(normal)\n",
    "p_agents = [p, 1-p]"
   ]
  },
  {
   "cell_type": "code",
   "execution_count": 7,
   "metadata": {},
   "outputs": [],
   "source": [
    "# Calculate probabilistic values\n",
    "p = p_fair[HEAD] * p_state[FAIR] + p_biased[HEAD] * p_state[BIASED] # p(head)\n",
    "p_signal = [p, 1-p] # p(head), p(tail)\n",
    "\n",
    "p = p_fair[HEAD] * p_state[FAIR] / p_signal[HEAD]\n",
    "p_head = [p, 1-p] # p(fair|head), p(biased|head)\n",
    "\n",
    "p = p_fair[TAIL] * p_state[FAIR] / p_signal[TAIL]\n",
    "p_tail = [p, 1-p] # p(fair|tail), p(biased|tail)\n",
    "\n",
    "# first order posterior\n",
    "p = p_fair[HEAD] * p_head[FAIR] + p_biased[HEAD] * p_head[BIASED]\n",
    "p_head_1st = [p, 1-p] # p(head|head), p(tail|head)\n",
    "p = p_fair[HEAD] * p_tail[FAIR] + p_biased[HEAD] * p_tail[BIASED]\n",
    "p_tail_1st = [p, 1-p] # p(head|tail), p(tail|tail)\n",
    "\n",
    "# second order posterior\n",
    "p_head_tail_tail = p_fair[HEAD] * p_fair[TAIL] * p_fair[TAIL] * p_state[FAIR] + p_biased[HEAD] * p_biased[TAIL] * p_biased[TAIL] * p_state[BIASED]\n",
    "p_head_head_tail = p_fair[HEAD] * p_fair[HEAD] * p_fair[TAIL] * p_state[FAIR] + p_biased[HEAD] * p_biased[HEAD] * p_biased[TAIL] * p_state[BIASED]\n",
    "p_head_head_head = p_fair[HEAD] * p_fair[HEAD] * p_fair[HEAD] * p_state[FAIR] + p_biased[HEAD] * p_biased[HEAD] * p_biased[HEAD] * p_state[BIASED]\n",
    "p_tail_tail = p_fair[TAIL] * p_fair[TAIL] * p_state[FAIR] + p_biased[TAIL] * p_biased[TAIL] * p_state[BIASED]\n",
    "p_head_tail = p_fair[HEAD] * p_fair[TAIL] * p_state[FAIR] + p_biased[HEAD] * p_biased[TAIL] * p_state[BIASED]\n",
    "p_head_head = p_fair[HEAD] * p_fair[HEAD] * p_state[FAIR] + p_biased[HEAD] * p_biased[HEAD] * p_state[BIASED]\n",
    "\n",
    "p = p_head_tail_tail / p_tail_tail\n",
    "p_tail_tail_2nd = [p, 1-p] # p(head|tail,tail), p(tail|tail,tail)\n",
    "p = p_head_head_tail / p_head_tail\n",
    "p_head_tail_2nd = [p, 1-p] # p(head|head,tail), p(tail|head,tail)\n",
    "p = p_head_head_head / p_head_head\n",
    "p_head_head_2nd = [p, 1-p] # p(head|head, head), p(tail|head, head)"
   ]
  },
  {
   "cell_type": "code",
   "execution_count": 8,
   "metadata": {},
   "outputs": [
    {
     "name": "stdout",
     "output_type": "stream",
     "text": [
      "p(head), p(tail)\n",
      "[0.75, 0.25]\n",
      "p(fair|head), p(biased|head)\n",
      "[0.3333333333333333, 0.6666666666666667]\n",
      "p(fair|tail), p(biased|tail)\n",
      "[1.0, 0.0]\n",
      "p(head|head), p(tail|head)\n",
      "[0.8333333333333334, 0.16666666666666663]\n",
      "p(head|tail), p(tail|tail)\n",
      "[0.5, 0.5]\n",
      "p(head|tail,tail), p(tail|tail,tail)\n",
      "[0.5, 0.5]\n",
      "p(head|head,tail), p(tail|head,tail)\n",
      "[0.5, 0.5]\n",
      "p(head|head, head), p(tail|head, head)\n",
      "[0.9, 0.09999999999999998]\n"
     ]
    }
   ],
   "source": [
    "print(\"p(head), p(tail)\")\n",
    "print(p_signal)\n",
    "print(\"p(fair|head), p(biased|head)\")\n",
    "print(p_head)\n",
    "print(\"p(fair|tail), p(biased|tail)\")\n",
    "print(p_tail)\n",
    "print(\"p(head|head), p(tail|head)\")\n",
    "print(p_head_1st)\n",
    "print(\"p(head|tail), p(tail|tail)\")\n",
    "print(p_tail_1st)\n",
    "print(\"p(head|tail,tail), p(tail|tail,tail)\")\n",
    "print(p_tail_tail_2nd)\n",
    "print(\"p(head|head,tail), p(tail|head,tail)\")\n",
    "print(p_head_tail_2nd)\n",
    "print(\"p(head|head, head), p(tail|head, head)\")\n",
    "print(p_head_head_2nd)"
   ]
  },
  {
   "cell_type": "markdown",
   "metadata": {},
   "source": [
    "Assume the normal agent in this case has observed a HEAD"
   ]
  },
  {
   "cell_type": "code",
   "execution_count": null,
   "metadata": {},
   "outputs": [],
   "source": []
  }
 ],
 "metadata": {
  "kernelspec": {
   "display_name": "Python 3",
   "language": "python",
   "name": "python3"
  },
  "language_info": {
   "codemirror_mode": {
    "name": "ipython",
    "version": 3
   },
   "file_extension": ".py",
   "mimetype": "text/x-python",
   "name": "python",
   "nbconvert_exporter": "python",
   "pygments_lexer": "ipython3",
   "version": "3.7.1"
  }
 },
 "nbformat": 4,
 "nbformat_minor": 2
}
